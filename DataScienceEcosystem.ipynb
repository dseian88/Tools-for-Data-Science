{
 "cells": [
  {
   "cell_type": "markdown",
   "metadata": {},
   "source": [
    "### Exercise 2 - Create a markdown cell with the title of the notebook. (1 pt)"
   ]
  },
  {
   "cell_type": "markdown",
   "metadata": {},
   "source": [
    "# **Tools for data Science - Final Assignment**"
   ]
  },
  {
   "cell_type": "markdown",
   "metadata": {},
   "source": [
    "### Exercise 3 - Create a markdown cell for an introduction. (1 pt)"
   ]
  },
  {
   "cell_type": "markdown",
   "metadata": {},
   "source": [
    "In this notebook,Data Science Tools and Ecosystem are summarized:\n",
    "\n",
    "**Objectives**\n",
    "\n",
    "- List popular languages that Data Scientists use.\n",
    "- List commonly used libraries used by Data Scientists.\n",
    "- Comment on Data Science tools.\n"
   ]
  },
  {
   "cell_type": "markdown",
   "metadata": {},
   "source": [
    "### Exercise 4 - Create a markdown cell to list data science languages. (3 pts)"
   ]
  },
  {
   "cell_type": "markdown",
   "metadata": {},
   "source": [
    "Some of thepopular languages that Data Scientists use are:\n",
    "\n",
    "- Python \n",
    "- R \n",
    "- SQL \n",
    "-Java \n",
    "- Julia \n",
    "- Scala \n",
    "- C/C++ \n",
    "- JavaScript"
   ]
  },
  {
   "cell_type": "markdown",
   "metadata": {},
   "source": [
    "### Exercise 5 - Create a markdown cell to list data science libraries. (3 pts)"
   ]
  },
  {
   "cell_type": "markdown",
   "metadata": {},
   "source": [
    "Some of the commonly used libraries used by Data Scientists include:\n",
    "\n",
    "1. TensorFlow\n",
    "2. NumPy\n",
    "3. SciPy\n",
    "4. Pandas\n",
    "5. Matplotlib\n",
    "6. Keras\n",
    "7. SciKit-Learn\n",
    "8. PyTorch\n",
    "9. Scrapy\n",
    "10. BeautifulSoup\n",
    "11. LightGBM\n",
    "12. ELI5\n",
    "13. Theano\n",
    "14. NuPIC\n",
    "15. Ramp\n",
    "16. Pipenv\n",
    "17. Bob\n",
    "18. PyBrain\n",
    "19. Caffe2\n",
    "20. Chainer"
   ]
  },
  {
   "cell_type": "markdown",
   "metadata": {},
   "source": [
    "### Exercise 6 - Create a markdown cell with a table of Data Science tools. (3 pts)"
   ]
  },
  {
   "cell_type": "markdown",
   "metadata": {},
   "source": [
    "| Data Science Tools           |\n",
    "|:-------------:|\n",
    "| Python |\n",
    "| SQL      |\n",
    "| R      |"
   ]
  },
  {
   "cell_type": "markdown",
   "metadata": {},
   "source": [
    "### Exercise 7 - Create a markdown cell introducing arithmetic expression examples. (1 pt)"
   ]
  },
  {
   "cell_type": "markdown",
   "metadata": {},
   "source": [
    "### Below are a few examples of evaluating arithmetic expressions in Python"
   ]
  },
  {
   "cell_type": "markdown",
   "metadata": {},
   "source": [
    "example 1  = compile(\"3 + 2\", \"<string>\", \"eval\")\\\n",
    "eval (example 1)\n",
    "# Result: 5"
   ]
  },
  {
   "cell_type": "markdown",
   "metadata": {},
   "source": [
    "example 2 = compile(\"(7 + 18) * 2\", \"<string>\", \"eval\")\\\n",
    "eval(example 2)\n",
    "# Result: 50"
   ]
  },
  {
   "cell_type": "markdown",
   "metadata": {},
   "source": [
    "### Exercise 8 - Create a code cell to multiply and add numbers.(2 pts)"
   ]
  },
  {
   "cell_type": "code",
   "execution_count": 1,
   "metadata": {},
   "outputs": [
    {
     "data": {
      "text/plain": [
       "17"
      ]
     },
     "execution_count": 1,
     "metadata": {},
     "output_type": "execute_result"
    }
   ],
   "source": [
    "(3*4)+5"
   ]
  },
  {
   "cell_type": "markdown",
   "metadata": {},
   "source": [
    "### Exercise 9 - Create a code cell to convert minutes to hours. (2 pts)"
   ]
  },
  {
   "cell_type": "code",
   "execution_count": 9,
   "metadata": {},
   "outputs": [
    {
     "name": "stdout",
     "output_type": "stream",
     "text": [
      "3.3333333333333335 hours \n"
     ]
    }
   ],
   "source": [
    "#This will convert 200 minutes to hours by diving by 60\n",
    "\n",
    "minutes = 200\n",
    "hours = minutes / 60\n",
    "print(str(hours) + \" hours \"  )\n",
    "\n",
    "# Result: 2 hours"
   ]
  },
  {
   "cell_type": "markdown",
   "metadata": {},
   "source": [
    "### Exercise 10 -Insert a markdown cell to list Objectives."
   ]
  },
  {
   "cell_type": "markdown",
   "metadata": {},
   "source": [
    "**Objectives:**\n",
    "- Describe the components of a Data Scientist's toolkit and list various tool categories.\n",
    "- List examples of open-source tools used in data science.\n",
    "- Describe the relevant features of open-source tools.\n",
    "- List examples of commercial and cloud-based data science tools."
   ]
  },
  {
   "cell_type": "markdown",
   "metadata": {},
   "source": [
    "### Exercise 11 - Create a markdown cell to indicate the Author’s name."
   ]
  },
  {
   "cell_type": "markdown",
   "metadata": {},
   "source": [
    "## S. Bajaj"
   ]
  }
 ],
 "metadata": {
  "kernelspec": {
   "display_name": "Python 3",
   "language": "python",
   "name": "python3"
  },
  "language_info": {
   "codemirror_mode": {
    "name": "ipython",
    "version": 3
   },
   "file_extension": ".py",
   "mimetype": "text/x-python",
   "name": "python",
   "nbconvert_exporter": "python",
   "pygments_lexer": "ipython3",
   "version": "3.8.5"
  }
 },
 "nbformat": 4,
 "nbformat_minor": 4
}
